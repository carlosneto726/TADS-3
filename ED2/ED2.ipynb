{
 "cells": [
  {
   "cell_type": "code",
   "execution_count": 15,
   "id": "d54522d8",
   "metadata": {},
   "outputs": [
    {
     "data": {
      "text/html": [
       "<style>.container { width:100% !important; }</style>"
      ],
      "text/plain": [
       "<IPython.core.display.HTML object>"
      ]
     },
     "metadata": {},
     "output_type": "display_data"
    }
   ],
   "source": [
    "from IPython.display import display, HTML\n",
    "display(HTML(\"<style>.container { width:100% !important; }</style>\"))"
   ]
  },
  {
   "cell_type": "code",
   "execution_count": 258,
   "id": "8b003e19",
   "metadata": {},
   "outputs": [],
   "source": [
    "class Vertice:\n",
    "    \n",
    "    def __init__(self, valor, direcionado=True):\n",
    "        self.__dado = valor\n",
    "        self.__direcionado = direcionado\n",
    "        self.__arestas = set()\n",
    "        self.__grau = set()\n",
    "    \n",
    "    def getDado(self):\n",
    "        return self.__dado\n",
    "    \n",
    "    def setDado(self, valor):\n",
    "        self.__dado = valor\n",
    "        \n",
    "    def getArestas(self):\n",
    "        return self.__arestas\n",
    "    \n",
    "    def adicionarAresta(self, aresta):\n",
    "        self.__arestas.add(aresta)\n",
    "        \n",
    "    def getArestasSaida(self):\n",
    "        if self.__direcionado == False:\n",
    "            return self.__arestas\n",
    "        arestasDeSaida = []\n",
    "        for aresta in self.__arestas:\n",
    "            if aresta.getvOrigem() == self:\n",
    "                arestasDeSaida.append(aresta)\n",
    "        return arestasDeSaida\n",
    "    \n",
    "    def getArestasEntrada(self):\n",
    "        if self.__direcionado == False:\n",
    "            return self.__arestas\n",
    "        arestasSaida = []\n",
    "        for aresta in self.__arestas:\n",
    "            if aresta.getvDestino() == self:\n",
    "                arestasSaida.append(aresta)\n",
    "        return arestasSaida\n",
    "    \n",
    "    def getGrau():\n",
    "        a.getvOrigem()\n",
    "        a.getvDestino()\n",
    "        \n",
    "        \n",
    "        graus = a.getvOrigem() +  a.getvDestino()\n",
    "        return graus\n",
    "        "
   ]
  },
  {
   "cell_type": "code",
   "execution_count": 259,
   "id": "5c3677e7",
   "metadata": {},
   "outputs": [],
   "source": [
    "class Aresta:\n",
    "    def __init__(self, vOrigem, vDestino, valor, direcionada=True):\n",
    "        self.__vOrigem = vOrigem\n",
    "        self.__vDestino = vDestino\n",
    "        self.__valor = valor\n",
    "        self.__direcionada = direcionada\n",
    "        self.__vOrigem.adicionarAresta(self)\n",
    "        self.__vDestino.adicionarAresta(self)\n",
    "        \n",
    "        \n",
    "    def getvOrigem(self):\n",
    "        return self.__vOrigem\n",
    "    def getvDestino(self):\n",
    "        return self.__vDestino\n",
    "    def getValor(self):\n",
    "        return self.__valor"
   ]
  },
  {
   "cell_type": "code",
   "execution_count": 260,
   "id": "d3d8fa70",
   "metadata": {},
   "outputs": [],
   "source": [
    "class Grafo:\n",
    "    def __init__(self, direcionado=True):\n",
    "        self.__vertices = set()\n",
    "        self.__arestas  = set()\n",
    "        self.__direcionado = direcionado\n",
    "        \n",
    "    def setVertices(self, vertices):\n",
    "        self.__vertices = vertices\n",
    "        \n",
    "    def setArestas(self, arestas):\n",
    "        self.__arestas = arestas\n",
    "        \n",
    "    def getVertices(self):\n",
    "        return self.__vertices\n",
    "    \n",
    "    def getArestas(self):\n",
    "        return self.__arestas       \n",
    "    \n",
    "    def getCheckHSL():\n",
    "        qtdGrau = Vertice.getGrau()\n",
    "        c = 0\n",
    "        for a in G.getArestas():\n",
    "            c += 1\n",
    "        qtdArestas = c\n",
    "        \n",
    "        print(\"a \" + str(qtdGrau) + \" a\")\n",
    "        print(\"a \" + str(qtdArestas) + \" a\")"
   ]
  },
  {
   "cell_type": "code",
   "execution_count": 261,
   "id": "91b986a7",
   "metadata": {},
   "outputs": [],
   "source": [
    "v1 = Vertice(1)\n",
    "v2 = Vertice(2)\n",
    "v3 = Vertice(3)\n",
    "v4 = Vertice(4)\n",
    "a1 = Aresta( v1, v2, 10, True )\n",
    "a2 = Aresta( v2, v3, 20, True )\n",
    "a3 = Aresta( v3, v4, 30, True )\n",
    "a4 = Aresta( v4, v1, 40, True )"
   ]
  },
  {
   "cell_type": "code",
   "execution_count": 262,
   "id": "2db17f8a",
   "metadata": {},
   "outputs": [],
   "source": [
    "G = Grafo()\n",
    "G.setVertices({v1, v2, v3, v4})\n",
    "G.setArestas({a1, a2, a3, a4})"
   ]
  },
  {
   "cell_type": "code",
   "execution_count": 263,
   "id": "1c2d3a62",
   "metadata": {},
   "outputs": [
    {
     "name": "stdout",
     "output_type": "stream",
     "text": [
      "1\n",
      "3\n",
      "2\n",
      "4\n"
     ]
    }
   ],
   "source": [
    "for v in G.getVertices():\n",
    "    print(v.getDado())"
   ]
  },
  {
   "cell_type": "code",
   "execution_count": 264,
   "id": "28e99364",
   "metadata": {},
   "outputs": [
    {
     "name": "stdout",
     "output_type": "stream",
     "text": [
      "1 ---> 2\n",
      "4 ---> 1\n",
      "2 ---> 3\n",
      "3 ---> 4\n"
     ]
    }
   ],
   "source": [
    "for a in G.getArestas():\n",
    "    print(a.getvOrigem().getDado(), end=\"\")\n",
    "    print(\" ---> \", end=\"\")\n",
    "    print(a.getvDestino().getDado())"
   ]
  },
  {
   "cell_type": "code",
   "execution_count": 265,
   "id": "6fd4c082",
   "metadata": {},
   "outputs": [
    {
     "name": "stdout",
     "output_type": "stream",
     "text": [
      "<__main__.Vertice object at 0x00000159D0EBD430>\n",
      "<__main__.Vertice object at 0x00000159D0EBDBB0>\n"
     ]
    },
    {
     "ename": "TypeError",
     "evalue": "unsupported operand type(s) for +: 'Vertice' and 'Vertice'",
     "output_type": "error",
     "traceback": [
      "\u001b[1;31m---------------------------------------------------------------------------\u001b[0m",
      "\u001b[1;31mTypeError\u001b[0m                                 Traceback (most recent call last)",
      "\u001b[1;32mC:\\Users\\IFG~1.FOR\\AppData\\Local\\Temp/ipykernel_10596/2314857428.py\u001b[0m in \u001b[0;36m<module>\u001b[1;34m\u001b[0m\n\u001b[0;32m      1\u001b[0m \u001b[1;32mfor\u001b[0m \u001b[0ma\u001b[0m \u001b[1;32min\u001b[0m \u001b[0mG\u001b[0m\u001b[1;33m.\u001b[0m\u001b[0mgetArestas\u001b[0m\u001b[1;33m(\u001b[0m\u001b[1;33m)\u001b[0m\u001b[1;33m:\u001b[0m\u001b[1;33m\u001b[0m\u001b[1;33m\u001b[0m\u001b[0m\n\u001b[1;32m----> 2\u001b[1;33m     \u001b[0mprint\u001b[0m\u001b[1;33m(\u001b[0m\u001b[0mGrafo\u001b[0m\u001b[1;33m.\u001b[0m\u001b[0mgetCheckHSL\u001b[0m\u001b[1;33m(\u001b[0m\u001b[1;33m)\u001b[0m\u001b[1;33m)\u001b[0m\u001b[1;33m\u001b[0m\u001b[1;33m\u001b[0m\u001b[0m\n\u001b[0m",
      "\u001b[1;32mC:\\Users\\IFG~1.FOR\\AppData\\Local\\Temp/ipykernel_10596/2426943335.py\u001b[0m in \u001b[0;36mgetCheckHSL\u001b[1;34m()\u001b[0m\n\u001b[0;32m     18\u001b[0m \u001b[1;33m\u001b[0m\u001b[0m\n\u001b[0;32m     19\u001b[0m     \u001b[1;32mdef\u001b[0m \u001b[0mgetCheckHSL\u001b[0m\u001b[1;33m(\u001b[0m\u001b[1;33m)\u001b[0m\u001b[1;33m:\u001b[0m\u001b[1;33m\u001b[0m\u001b[1;33m\u001b[0m\u001b[0m\n\u001b[1;32m---> 20\u001b[1;33m         \u001b[0mqtdGrau\u001b[0m \u001b[1;33m=\u001b[0m \u001b[0mVertice\u001b[0m\u001b[1;33m.\u001b[0m\u001b[0mgetGrau\u001b[0m\u001b[1;33m(\u001b[0m\u001b[1;33m)\u001b[0m\u001b[1;33m\u001b[0m\u001b[1;33m\u001b[0m\u001b[0m\n\u001b[0m\u001b[0;32m     21\u001b[0m         \u001b[0mc\u001b[0m \u001b[1;33m=\u001b[0m \u001b[1;36m0\u001b[0m\u001b[1;33m\u001b[0m\u001b[1;33m\u001b[0m\u001b[0m\n\u001b[0;32m     22\u001b[0m         \u001b[1;32mfor\u001b[0m \u001b[0ma\u001b[0m \u001b[1;32min\u001b[0m \u001b[0mG\u001b[0m\u001b[1;33m.\u001b[0m\u001b[0mgetArestas\u001b[0m\u001b[1;33m(\u001b[0m\u001b[1;33m)\u001b[0m\u001b[1;33m:\u001b[0m\u001b[1;33m\u001b[0m\u001b[1;33m\u001b[0m\u001b[0m\n",
      "\u001b[1;32mC:\\Users\\IFG~1.FOR\\AppData\\Local\\Temp/ipykernel_10596/3869444665.py\u001b[0m in \u001b[0;36mgetGrau\u001b[1;34m()\u001b[0m\n\u001b[0;32m     42\u001b[0m \u001b[1;33m\u001b[0m\u001b[0m\n\u001b[0;32m     43\u001b[0m \u001b[1;33m\u001b[0m\u001b[0m\n\u001b[1;32m---> 44\u001b[1;33m         \u001b[0mgraus\u001b[0m \u001b[1;33m=\u001b[0m \u001b[0ma\u001b[0m\u001b[1;33m.\u001b[0m\u001b[0mgetvOrigem\u001b[0m\u001b[1;33m(\u001b[0m\u001b[1;33m)\u001b[0m \u001b[1;33m+\u001b[0m  \u001b[0ma\u001b[0m\u001b[1;33m.\u001b[0m\u001b[0mgetvDestino\u001b[0m\u001b[1;33m(\u001b[0m\u001b[1;33m)\u001b[0m\u001b[1;33m\u001b[0m\u001b[1;33m\u001b[0m\u001b[0m\n\u001b[0m\u001b[0;32m     45\u001b[0m         \u001b[1;32mreturn\u001b[0m \u001b[0mgraus\u001b[0m\u001b[1;33m\u001b[0m\u001b[1;33m\u001b[0m\u001b[0m\n\u001b[0;32m     46\u001b[0m \u001b[1;33m\u001b[0m\u001b[0m\n",
      "\u001b[1;31mTypeError\u001b[0m: unsupported operand type(s) for +: 'Vertice' and 'Vertice'"
     ]
    }
   ],
   "source": [
    "for a in G.getArestas():\n",
    "    print(Grafo.getCheckHSL())"
   ]
  },
  {
   "cell_type": "code",
   "execution_count": null,
   "id": "b32656c5",
   "metadata": {},
   "outputs": [],
   "source": []
  },
  {
   "cell_type": "code",
   "execution_count": null,
   "id": "2845fa29",
   "metadata": {},
   "outputs": [],
   "source": []
  },
  {
   "cell_type": "code",
   "execution_count": null,
   "id": "d148f253",
   "metadata": {},
   "outputs": [],
   "source": []
  }
 ],
 "metadata": {
  "kernelspec": {
   "display_name": "Python 3 (ipykernel)",
   "language": "python",
   "name": "python3"
  },
  "language_info": {
   "codemirror_mode": {
    "name": "ipython",
    "version": 3
   },
   "file_extension": ".py",
   "mimetype": "text/x-python",
   "name": "python",
   "nbconvert_exporter": "python",
   "pygments_lexer": "ipython3",
   "version": "3.9.7"
  }
 },
 "nbformat": 4,
 "nbformat_minor": 5
}
